{
 "cells": [
  {
   "cell_type": "markdown",
   "id": "a302580e-bb52-4d3d-96f7-b1f5770ff8a3",
   "metadata": {},
   "source": [
    "# Data Science Tools and Ecosystem\n"
   ]
  },
  {
   "cell_type": "markdown",
   "id": "967d72b0-24bc-4c75-b894-b240b9fe4dac",
   "metadata": {},
   "source": [
    "En este cuaderno, se resumen las herramientas y ecosistemas de ciencia de datos."
   ]
  },
  {
   "cell_type": "markdown",
   "id": "d79b22ee-3c6e-4a90-8d45-96d70d69f45d",
   "metadata": {},
   "source": [
    "Algunos de los lenguajes populares que utilizan los científicos de datos son:\n",
    "1. Python\n",
    "2. R\n",
    "3. SQL\n",
    "4. Julia"
   ]
  },
  {
   "cell_type": "markdown",
   "id": "bd476d2d-31cc-41ec-a513-f9c39684f804",
   "metadata": {},
   "source": [
    "Algunas de las bibliotecas comúnmente utilizadas por los científicos de datos incluyen:\n",
    "1. Pandas\n",
    "2. NumPy\n",
    "3. Scikit-learn\n",
    "4. TensorFlow"
   ]
  },
  {
   "cell_type": "markdown",
   "id": "b996dd1e-4c9b-49e3-bc58-496f3e2c67cf",
   "metadata": {},
   "source": [
    "| Herramientas de Ciencia de Datos |\n",
    "|-----------------------------------|\n",
    "| Jupyter Notebook                 |\n",
    "| Apache Spark                     |\n",
    "| RStudio                          |\n",
    "| VS Code                          |"
   ]
  },
  {
   "cell_type": "markdown",
   "id": "9b298448-e5a2-4577-9c4c-a40be3628d41",
   "metadata": {},
   "source": [
    "### A continuación, se presentan algunos ejemplos de evaluación de expresiones aritméticas en Python."
   ]
  },
  {
   "cell_type": "code",
   "execution_count": 1,
   "id": "d71d6873-883f-4a10-b7dd-73712c91ab24",
   "metadata": {},
   "outputs": [
    {
     "data": {
      "text/plain": [
       "17"
      ]
     },
     "execution_count": 1,
     "metadata": {},
     "output_type": "execute_result"
    }
   ],
   "source": [
    "# Esta es una expresión aritmética simple para multiplicar y luego sumar enteros.\n",
    "(3 * 4) + 5"
   ]
  },
  {
   "cell_type": "code",
   "execution_count": 2,
   "id": "4996574d-6c8e-47d2-b752-fc7f8ce6595b",
   "metadata": {},
   "outputs": [
    {
     "data": {
      "text/plain": [
       "3.3333333333333335"
      ]
     },
     "execution_count": 2,
     "metadata": {},
     "output_type": "execute_result"
    }
   ],
   "source": [
    "# Esto convertirá 200 minutos a horas dividiendo por 60.\n",
    "200 / 60"
   ]
  },
  {
   "cell_type": "markdown",
   "id": "f1a75489-d1db-4e3d-a38b-404c7d763ffd",
   "metadata": {},
   "source": [
    "**Objetivos:**\n",
    "- Listar lenguajes populares para Ciencia de Datos.\n",
    "- Identificar bibliotecas clave en Python y R.\n",
    "- Explorar herramientas de código abierto para análisis de datos.\n",
    "- Practicar expresiones aritméticas en Python.\n",
    "- Introducir el uso de Jupyter Notebooks."
   ]
  },
  {
   "cell_type": "markdown",
   "id": "e42bdd90-5d7a-49c4-bd56-35b7211dcc69",
   "metadata": {},
   "source": [
    "## Autor\n",
    "Rodrigo Salazar"
   ]
  },
  {
   "cell_type": "code",
   "execution_count": null,
   "id": "435e9569-b7d0-49ad-9f98-90d0fd46f1f6",
   "metadata": {},
   "outputs": [],
   "source": []
  }
 ],
 "metadata": {
  "kernelspec": {
   "display_name": "Python 3 (ipykernel)",
   "language": "python",
   "name": "python3"
  },
  "language_info": {
   "codemirror_mode": {
    "name": "ipython",
    "version": 3
   },
   "file_extension": ".py",
   "mimetype": "text/x-python",
   "name": "python",
   "nbconvert_exporter": "python",
   "pygments_lexer": "ipython3",
   "version": "3.12.8"
  }
 },
 "nbformat": 4,
 "nbformat_minor": 5
}
